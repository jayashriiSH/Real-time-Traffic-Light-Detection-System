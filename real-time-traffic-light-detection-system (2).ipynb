{
 "cells": [
  {
   "cell_type": "code",
   "execution_count": null,
   "metadata": {
    "execution": {
     "iopub.execute_input": "2025-09-05T12:41:37.130837Z",
     "iopub.status.busy": "2025-09-05T12:41:37.130246Z",
     "iopub.status.idle": "2025-09-05T12:41:57.015302Z",
     "shell.execute_reply": "2025-09-05T12:41:57.014653Z",
     "shell.execute_reply.started": "2025-09-05T12:41:37.130814Z"
    },
    "trusted": true
   },
   "outputs": [
    {
     "name": "stdout",
     "output_type": "stream",
     "text": [
      "[info] Annotated images saved in: annotated_images\n",
      "[info] Detection results saved to: detections.csv\n"
     ]
    }
   ],
   "source": [
    "import cv2\n",
    "import numpy as np\n",
    "import os\n",
    "import pandas as pd\n",
    "\n",
    "# HSV thresholds\n",
    "HSV_RANGES = {\n",
    "    \"red1\": ((0, 100, 70), (8, 255, 255)),\n",
    "    \"red2\": ((170, 100, 70), (180, 255, 255)),\n",
    "    \"yellow\": ((15, 100, 100), (35, 255, 255)),\n",
    "    \"green\": ((35, 60, 60), (90, 255, 255)),\n",
    "}\n",
    "\n",
    "def get_mask(hsv, color):\n",
    "    if color == \"red\":\n",
    "        mask1 = cv2.inRange(hsv, np.array(HSV_RANGES[\"red1\"][0]), np.array(HSV_RANGES[\"red1\"][1]))\n",
    "        mask2 = cv2.inRange(hsv, np.array(HSV_RANGES[\"red2\"][0]), np.array(HSV_RANGES[\"red2\"][1]))\n",
    "        mask = cv2.bitwise_or(mask1, mask2)\n",
    "    else:\n",
    "        low, high = HSV_RANGES[color]\n",
    "        mask = cv2.inRange(hsv, np.array(low), np.array(high))\n",
    "    kernel = cv2.getStructuringElement(cv2.MORPH_ELLIPSE, (5,5))\n",
    "    mask = cv2.morphologyEx(mask, cv2.MORPH_OPEN, kernel, iterations=1)\n",
    "    mask = cv2.morphologyEx(mask, cv2.MORPH_DILATE, kernel, iterations=1)\n",
    "    return mask\n",
    "\n",
    "def contour_is_valid(cnt, min_area=80):\n",
    "    area = cv2.contourArea(cnt)\n",
    "    if area < min_area: return False\n",
    "    x,y,w,h = cv2.boundingRect(cnt)\n",
    "    aspect = float(w)/h if h>0 else 0\n",
    "    if aspect < 0.2 or aspect > 1.6: return False\n",
    "    peri = cv2.arcLength(cnt, True)\n",
    "    if peri == 0: return False\n",
    "    circularity = 4*np.pi*(area/(peri*peri))\n",
    "    if circularity < 0.03: return False\n",
    "    return True\n",
    "\n",
    "def find_light_candidates(mask, min_area=80):\n",
    "    contours, _ = cv2.findContours(mask, cv2.RETR_EXTERNAL, cv2.CHAIN_APPROX_SIMPLE)\n",
    "    boxes = []\n",
    "    for cnt in contours:\n",
    "        if contour_is_valid(cnt, min_area=min_area):\n",
    "            x,y,w,h = cv2.boundingRect(cnt)\n",
    "            boxes.append((x,y,w,h,cv2.contourArea(cnt)))\n",
    "    return boxes\n",
    "\n",
    "def merge_boxes(boxes):\n",
    "    if not boxes: return []\n",
    "    rects = np.array([[x, y, x+w, y+h, a] for (x,y,w,h,a) in boxes])\n",
    "    rects = rects[np.argsort(rects[:,0])]\n",
    "    merged, cur = [], rects[0].copy()\n",
    "    for r in rects[1:]:\n",
    "        overlap_x = min(cur[2], r[2]) - max(cur[0], r[0])\n",
    "        overlap_y = min(cur[3], r[3]) - max(cur[1], r[1])\n",
    "        if overlap_x > -5 and overlap_y > -5:\n",
    "            cur[0] = min(cur[0], r[0]); cur[1] = min(cur[1], r[1])\n",
    "            cur[2] = max(cur[2], r[2]); cur[3] = max(cur[3], r[3])\n",
    "            cur[4] = max(cur[4], r[4])\n",
    "        else:\n",
    "            merged.append(tuple(cur.tolist())); cur = r.copy()\n",
    "    merged.append(tuple(cur.tolist()))\n",
    "    return [(int(x1),int(y1),int(x2-x1),int(y2-y1),a) for (x1,y1,x2,y2,a) in merged]\n",
    "\n",
    "# ---------- Process dataset ----------\n",
    "def process_dataset(dataset_path, output_dir=\"annotated_images\", csv_out=\"detections.csv\", min_area=80):\n",
    "    os.makedirs(output_dir, exist_ok=True)\n",
    "    results = []\n",
    "\n",
    "    for root, _, files in os.walk(dataset_path):\n",
    "        for fname in files:\n",
    "            if not fname.lower().endswith((\".jpg\", \".png\", \".jpeg\")):\n",
    "                continue\n",
    "            img_path = os.path.join(root, fname)\n",
    "            img = cv2.imread(img_path)\n",
    "            if img is None:\n",
    "                continue\n",
    "\n",
    "            blur = cv2.GaussianBlur(img, (5,5), 0)\n",
    "            hsv = cv2.cvtColor(blur, cv2.COLOR_BGR2HSV)\n",
    "\n",
    "            detections = {c: find_light_candidates(get_mask(hsv, c), min_area) \n",
    "                          for c in (\"red\",\"yellow\",\"green\")}\n",
    "            merged = {c: merge_boxes(detections[c]) for c in detections}\n",
    "            \n",
    "            label_for_img = \"none\"\n",
    "            if merged[\"red\"]: label_for_img = \"red\"\n",
    "            elif merged[\"yellow\"]: label_for_img = \"yellow\"\n",
    "            elif merged[\"green\"]: label_for_img = \"green\"\n",
    "\n",
    "            # draw annotations\n",
    "            for color in merged:\n",
    "                for (x,y,w,h,a) in merged[color]:\n",
    "                    box_col = (0,0,255) if color==\"red\" else (0,255,255) if color==\"yellow\" else (0,255,0)\n",
    "                    cv2.rectangle(img, (x,y), (x+w, y+h), box_col, 2)\n",
    "                    cv2.putText(img, color, (x,y-6), cv2.FONT_HERSHEY_SIMPLEX, 0.5, box_col, 2)\n",
    "\n",
    "            out_path = os.path.join(output_dir, fname)\n",
    "            cv2.imwrite(out_path, img)\n",
    "\n",
    "            results.append({\"filename\": fname, \"predicted\": label_for_img})\n",
    "\n",
    "    # save detections to CSV\n",
    "    df = pd.DataFrame(results)\n",
    "    df.to_csv(csv_out, index=False)\n",
    "    print(f\"[info] Annotated images saved in: {output_dir}\")\n",
    "    print(f\"[info] Detection results saved to: {csv_out}\")\n",
    "\n",
    "# ---------- Run ----------\n",
    "process_dataset(\"/kaggle/input/small-traffic-light-colors-dataset-by-ali-noor\")\n"
   ]
  },
  {
   "cell_type": "code",
   "execution_count": null,
   "metadata": {
    "trusted": true
   },
   "outputs": [],
   "source": []
  },
  {
   "cell_type": "code",
   "execution_count": null,
   "metadata": {
    "trusted": true
   },
   "outputs": [],
   "source": []
  },
  {
   "cell_type": "code",
   "execution_count": null,
   "metadata": {
    "trusted": true
   },
   "outputs": [],
   "source": []
  },
  {
   "cell_type": "code",
   "execution_count": null,
   "metadata": {
    "trusted": true
   },
   "outputs": [],
   "source": []
  }
 ],
 "metadata": {
  "kaggle": {
   "accelerator": "gpu",
   "dataSources": [
    {
     "datasetId": 1932507,
     "sourceId": 3181265,
     "sourceType": "datasetVersion"
    },
    {
     "datasetId": 6348389,
     "sourceId": 10264476,
     "sourceType": "datasetVersion"
    },
    {
     "datasetId": 7765005,
     "sourceId": 12319069,
     "sourceType": "datasetVersion"
    },
    {
     "datasetId": 8208441,
     "sourceId": 12969374,
     "sourceType": "datasetVersion"
    }
   ],
   "dockerImageVersionId": 31090,
   "isGpuEnabled": true,
   "isInternetEnabled": true,
   "language": "python",
   "sourceType": "notebook"
  },
  "kernelspec": {
   "display_name": "Python 3",
   "language": "python",
   "name": "python3"
  },
  "language_info": {
   "codemirror_mode": {
    "name": "ipython",
    "version": 3
   },
   "file_extension": ".py",
   "mimetype": "text/x-python",
   "name": "python",
   "nbconvert_exporter": "python",
   "pygments_lexer": "ipython3",
   "version": "3.11.13"
  }
 },
 "nbformat": 4,
 "nbformat_minor": 4
}
