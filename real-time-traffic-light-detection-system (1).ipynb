{
 "cells": [
  {
   "cell_type": "code",
   "execution_count": null,
   "metadata": {
    "execution": {
     "iopub.execute_input": "2025-09-05T12:22:55.894336Z",
     "iopub.status.busy": "2025-09-05T12:22:55.893807Z",
     "iopub.status.idle": "2025-09-05T12:24:40.116126Z",
     "shell.execute_reply": "2025-09-05T12:24:40.115343Z",
     "shell.execute_reply.started": "2025-09-05T12:22:55.894307Z"
    },
    "trusted": true
   },
   "outputs": [
    {
     "name": "stdout",
     "output_type": "stream",
     "text": [
      "[info] Annotated video saved: out1.mp4\n",
      "[info] Annotated video saved: out2.mp4\n"
     ]
    }
   ],
   "source": [
    "import cv2\n",
    "import numpy as np\n",
    "import csv\n",
    "import time\n",
    "import os\n",
    "\n",
    "# HSV thresholds \n",
    "HSV_RANGES = {\n",
    "    \"red1\": ((0, 100, 70), (8, 255, 255)),\n",
    "    \"red2\": ((170, 100, 70), (180, 255, 255)),\n",
    "    \"yellow\": ((15, 100, 100), (35, 255, 255)),\n",
    "    \"green\": ((35, 60, 60), (90, 255, 255)),\n",
    "}\n",
    "\n",
    "def get_mask(hsv, color):\n",
    "    if color == \"red\":\n",
    "        mask1 = cv2.inRange(hsv, np.array(HSV_RANGES[\"red1\"][0]), np.array(HSV_RANGES[\"red1\"][1]))\n",
    "        mask2 = cv2.inRange(hsv, np.array(HSV_RANGES[\"red2\"][0]), np.array(HSV_RANGES[\"red2\"][1]))\n",
    "        mask = cv2.bitwise_or(mask1, mask2)\n",
    "    else:\n",
    "        low, high = HSV_RANGES[color]\n",
    "        mask = cv2.inRange(hsv, np.array(low), np.array(high))\n",
    "    kernel = cv2.getStructuringElement(cv2.MORPH_ELLIPSE, (5,5))\n",
    "    mask = cv2.morphologyEx(mask, cv2.MORPH_OPEN, kernel, iterations=1)\n",
    "    mask = cv2.morphologyEx(mask, cv2.MORPH_DILATE, kernel, iterations=1)\n",
    "    return mask\n",
    "\n",
    "def contour_is_valid(cnt, min_area=80):\n",
    "    area = cv2.contourArea(cnt)\n",
    "    if area < min_area: return False\n",
    "    x,y,w,h = cv2.boundingRect(cnt)\n",
    "    aspect = float(w)/h if h>0 else 0\n",
    "    if aspect < 0.2 or aspect > 1.6: return False\n",
    "    peri = cv2.arcLength(cnt, True)\n",
    "    if peri == 0: return False\n",
    "    circularity = 4*np.pi*(area/(peri*peri))\n",
    "    if circularity < 0.03: return False\n",
    "    return True\n",
    "\n",
    "def find_light_candidates(mask, min_area=80):\n",
    "    contours, _ = cv2.findContours(mask, cv2.RETR_EXTERNAL, cv2.CHAIN_APPROX_SIMPLE)\n",
    "    boxes = []\n",
    "    for cnt in contours:\n",
    "        if contour_is_valid(cnt, min_area=min_area):\n",
    "            x,y,w,h = cv2.boundingRect(cnt)\n",
    "            boxes.append((x,y,w,h,cv2.contourArea(cnt)))\n",
    "    return boxes\n",
    "\n",
    "def merge_boxes(boxes):\n",
    "    if not boxes: return []\n",
    "    rects = np.array([[x, y, x+w, y+h, a] for (x,y,w,h,a) in boxes])\n",
    "    rects = rects[np.argsort(rects[:,0])]\n",
    "    merged, cur = [], rects[0].copy()\n",
    "    for r in rects[1:]:\n",
    "        overlap_x = min(cur[2], r[2]) - max(cur[0], r[0])\n",
    "        overlap_y = min(cur[3], r[3]) - max(cur[1], r[1])\n",
    "        if overlap_x > -5 and overlap_y > -5:\n",
    "            cur[0] = min(cur[0], r[0]); cur[1] = min(cur[1], r[1])\n",
    "            cur[2] = max(cur[2], r[2]); cur[3] = max(cur[3], r[3])\n",
    "            cur[4] = max(cur[4], r[4])\n",
    "        else:\n",
    "            merged.append(tuple(cur.tolist())); cur = r.copy()\n",
    "    merged.append(tuple(cur.tolist()))\n",
    "    return [(int(x1),int(y1),int(x2-x1),int(y2-y1),a) for (x1,y1,x2,y2,a) in merged]\n",
    "\n",
    "def process_video(video_path, output_path=\"annotated_out.mp4\", min_area=80):\n",
    "    cap = cv2.VideoCapture(video_path)\n",
    "    if not cap.isOpened():\n",
    "        raise RuntimeError(f\"Cannot open video {video_path}\")\n",
    "    fps = cap.get(cv2.CAP_PROP_FPS) or 20.0\n",
    "    width  = int(cap.get(cv2.CAP_PROP_FRAME_WIDTH))\n",
    "    height = int(cap.get(cv2.CAP_PROP_FRAME_HEIGHT))\n",
    "    \n",
    "    fourcc = cv2.VideoWriter_fourcc(*\"mp4v\")\n",
    "    writer = cv2.VideoWriter(output_path, fourcc, fps, (width,height))\n",
    "    \n",
    "    frame_idx = 0\n",
    "    while True:\n",
    "        ret, frame = cap.read()\n",
    "        if not ret: break\n",
    "        blur = cv2.GaussianBlur(frame, (5,5), 0)\n",
    "        hsv = cv2.cvtColor(blur, cv2.COLOR_BGR2HSV)\n",
    "\n",
    "        detections = {c: find_light_candidates(get_mask(hsv, c), min_area) \n",
    "                      for c in (\"red\",\"yellow\",\"green\")}\n",
    "        merged = {c: merge_boxes(detections[c]) for c in detections}\n",
    "        \n",
    "        label_for_frame = \"none\"\n",
    "        if merged[\"red\"]: label_for_frame = \"red\"\n",
    "        elif merged[\"yellow\"]: label_for_frame = \"yellow\"\n",
    "        elif merged[\"green\"]: label_for_frame = \"green\"\n",
    "        \n",
    "        for color in merged:\n",
    "            for (x,y,w,h,a) in merged[color]:\n",
    "                box_col = (0,0,255) if color==\"red\" else (0,255,255) if color==\"yellow\" else (0,255,0)\n",
    "                cv2.rectangle(frame, (x,y), (x+w, y+h), box_col, 2)\n",
    "                cv2.putText(frame, color, (x,y-6), cv2.FONT_HERSHEY_SIMPLEX, 0.5, box_col, 2)\n",
    "        \n",
    "        cv2.rectangle(frame, (0,0), (220,36), (0,0,0), -1)\n",
    "        cv2.putText(frame, f\"State: {label_for_frame}\", (6,20),\n",
    "                    cv2.FONT_HERSHEY_SIMPLEX, 0.7, (255,255,255), 2)\n",
    "        \n",
    "        writer.write(frame)\n",
    "        frame_idx += 1\n",
    "\n",
    "    cap.release()\n",
    "    writer.release()\n",
    "    print(f\"[info] Annotated video saved: {output_path}\")\n",
    "\n",
    "process_video(\"/kaggle/input/demovid/vecteezy_pov-to-the-stoplight-traffic-safety-sign-light-in-phuket-old_20925708.mp4\",\n",
    "              output_path=\"out1.mp4\")\n",
    "process_video(\"/kaggle/input/demovid/vecteezy_road-traffic-lights-at-night-in-time-lapse_16179747.mov\",\n",
    "              output_path=\"out2.mp4\")\n"
   ]
  },
  {
   "cell_type": "code",
   "execution_count": 9,
   "metadata": {
    "execution": {
     "iopub.execute_input": "2025-09-05T12:29:21.871209Z",
     "iopub.status.busy": "2025-09-05T12:29:21.870996Z",
     "iopub.status.idle": "2025-09-05T12:29:21.876043Z",
     "shell.execute_reply": "2025-09-05T12:29:21.875338Z",
     "shell.execute_reply.started": "2025-09-05T12:29:21.871193Z"
    },
    "trusted": true
   },
   "outputs": [
    {
     "data": {
      "text/html": [
       "<a href=\"annotated_output.avi\" download>Click here to download annotated video</a>"
      ],
      "text/plain": [
       "<IPython.core.display.HTML object>"
      ]
     },
     "execution_count": 9,
     "metadata": {},
     "output_type": "execute_result"
    }
   ],
   "source": [
    "from IPython.display import HTML\n",
    "\n",
    "HTML(f'<a href=\"{output_path}\" download>Click here to download annotated video</a>')\n"
   ]
  },
  {
   "cell_type": "code",
   "execution_count": null,
   "metadata": {
    "trusted": true
   },
   "outputs": [],
   "source": []
  }
 ],
 "metadata": {
  "kaggle": {
   "accelerator": "gpu",
   "dataSources": [
    {
     "datasetId": 1932507,
     "sourceId": 3181265,
     "sourceType": "datasetVersion"
    },
    {
     "datasetId": 6348389,
     "sourceId": 10264476,
     "sourceType": "datasetVersion"
    },
    {
     "datasetId": 7765005,
     "sourceId": 12319069,
     "sourceType": "datasetVersion"
    },
    {
     "datasetId": 8208441,
     "sourceId": 12969374,
     "sourceType": "datasetVersion"
    }
   ],
   "dockerImageVersionId": 31090,
   "isGpuEnabled": true,
   "isInternetEnabled": true,
   "language": "python",
   "sourceType": "notebook"
  },
  "kernelspec": {
   "display_name": "Python 3",
   "language": "python",
   "name": "python3"
  },
  "language_info": {
   "codemirror_mode": {
    "name": "ipython",
    "version": 3
   },
   "file_extension": ".py",
   "mimetype": "text/x-python",
   "name": "python",
   "nbconvert_exporter": "python",
   "pygments_lexer": "ipython3",
   "version": "3.11.13"
  }
 },
 "nbformat": 4,
 "nbformat_minor": 4
}
